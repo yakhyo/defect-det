{
 "cells": [
  {
   "cell_type": "code",
   "execution_count": 83,
   "id": "b81cd1e5-bd41-4263-9e25-c5e91dc4ca2a",
   "metadata": {},
   "outputs": [],
   "source": [
    "import os\n",
    "import json\n",
    "import matplotlib.pyplot as plt\n",
    "\n",
    "from pprint import pprint\n",
    "import numpy as np\n",
    "import cv2"
   ]
  },
  {
   "cell_type": "code",
   "execution_count": 91,
   "id": "ecb20aba-9194-4c4e-b0bf-f70b30dd485d",
   "metadata": {},
   "outputs": [],
   "source": [
    "# paths to image files and labels\n",
    "labels_dir = \"./data/labels/\"\n",
    "images_dir = \"./data/images/\"\n",
    "train_test_split = \"./data/NewDataInfo.txt\""
   ]
  },
  {
   "cell_type": "code",
   "execution_count": 93,
   "id": "e0821ff8-37db-40d4-99ef-113947625e6f",
   "metadata": {},
   "outputs": [
    {
     "name": "stdout",
     "output_type": "stream",
     "text": [
      "Num. of train files: 648\n",
      "Num. of test files: 4\n"
     ]
    }
   ],
   "source": [
    "with open(train_test_split, \"r\") as f:\n",
    "    lines = f.readlines()\n",
    "\n",
    "train_files = []\n",
    "test_files = []\n",
    "\n",
    "for line in lines:\n",
    "    filename, is_train = line.strip().split()\n",
    "    if is_train == \"True\":\n",
    "        train_files.append(filename)\n",
    "    else:\n",
    "        test_files.append(filename)\n",
    "print(\"Num. of train files:\", len(train_files))\n",
    "print(\"Num. of test files:\", len(test_files))"
   ]
  },
  {
   "cell_type": "markdown",
   "id": "a33ccad5-a045-45ea-a4f7-774ca943bdbd",
   "metadata": {},
   "source": [
    "<h1><font color='red'>Data Exploring</font></h1>\n",
    "\n",
    "Data Exploring includes understanding the label file and the distribution of labels"
   ]
  },
  {
   "cell_type": "code",
   "execution_count": 85,
   "id": "ea21ecbb-3d7c-4fd9-975d-e997eb86650d",
   "metadata": {},
   "outputs": [],
   "source": [
    "def get_distribution(labels_dir):\n",
    "    \"\"\"Finds the distribution of defect instances\n",
    "    \n",
    "    Args:\n",
    "        labels_dir (str): path to labels folder\n",
    "        \n",
    "    Returns:\n",
    "        distribution of existing defects\n",
    "        list of files which do not have any defect\n",
    "    \"\"\"\n",
    "    \n",
    "    distribution = {}\n",
    "    no_defect_files = []\n",
    "    \n",
    "    for filename in os.listdir(labels_dir):\n",
    "        with open(f\"{labels_dir}/{filename}\", \"r\") as f:\n",
    "            label = json.load(f)\n",
    "            instances = label[\"shapes\"]\n",
    "            \n",
    "            # check if there is defect or not\n",
    "            if len(instances) > 0:\n",
    "                # iterate found defects\n",
    "                for instance in instances:\n",
    "                    \n",
    "                    defect_type = instance[\"label\"]\n",
    "                    points = instance[\"points\"]\n",
    "                    \n",
    "                    if defect_type in distribution:\n",
    "                        distribution[defect_type] += 1\n",
    "                    else:\n",
    "                        distribution[defect_type] = 1\n",
    "            else:\n",
    "                # save filenames with no defect\n",
    "                no_defect_files.append(filename)\n",
    "\n",
    "    return distribution, no_defect_files"
   ]
  },
  {
   "cell_type": "code",
   "execution_count": 86,
   "id": "f4c098cf-b861-488c-ad1e-f0ca014ff3cb",
   "metadata": {},
   "outputs": [],
   "source": [
    "defect_distribution, no_defect_files = get_distribution(labels_dir)"
   ]
  },
  {
   "cell_type": "code",
   "execution_count": 90,
   "id": "8466909e-12d7-4aea-a602-4fefbe537097",
   "metadata": {},
   "outputs": [
    {
     "data": {
      "image/png": "[encoded data removed]",
      "text/plain": [
       "<Figure size 640x480 with 1 Axes>"
      ]
     },
     "metadata": {},
     "output_type": "display_data"
    }
   ],
   "source": [
    "def plot_distribution(distribution):\n",
    "    keys = distribution.keys()\n",
    "    values = distribution.values()\n",
    "    colors = ['blue', 'green', 'orange', 'red', 'purple', 'yellow']\n",
    "    plt.bar(keys, values, color=colors)\n",
    "    plt.xlabel('Defect Types')\n",
    "    plt.ylabel('Count')\n",
    "    plt.title('Defect Distribution')\n",
    "    plt.show()\n",
    "\n",
    "plot_distribution(defect_distribution)"
   ]
  },
  {
   "cell_type": "markdown",
   "id": "26eb4720-e5d3-4c79-940a-2099a90a259e",
   "metadata": {},
   "source": [
    "<h1><font color='red'>Display Samples</font></h1>"
   ]
  },
  {
   "cell_type": "code",
   "execution_count": 94,
   "id": "513d7e45-3faa-4f5a-9640-94ecb7045a66",
   "metadata": {},
   "outputs": [
    {
     "data": {
      "text/plain": [
       "['122011309511590_5_side2.json',\n",
       " '122012713581976_5_side2.json',\n",
       " '122012713561608_5_side2.json',\n",
       " '122012713521288_5_side2.json',\n",
       " '122012613141482_5_side2.json',\n",
       " '122012713565629_5_side2.json',\n",
       " '122012713574284_5_side2.json',\n",
       " '122012713584179_5_side2.json',\n",
       " '122012713553989_5_side2.json',\n",
       " '122012613140780_5_side2.json',\n",
       " '122012613140956_5_side2.json']"
      ]
     },
     "execution_count": 94,
     "metadata": {},
     "output_type": "execute_result"
    }
   ],
   "source": []
  },
  {
   "cell_type": "code",
   "execution_count": 97,
   "id": "05d20ea8-5871-4a86-994b-afc2a0b16315",
   "metadata": {},
   "outputs": [],
   "source": [
    "top_left_x = float(\"inf\")\n",
    "top_left_y = float(\"inf\")\n",
    "\n",
    "bottom_right_x = float(\"-inf\")\n",
    "bottom_right_y = float(\"-inf\")\n",
    "\n",
    "for filename in os.listdir(\"./wheel_data/data/\"):\n",
    "    if filename.endswith(\"json\"):\n",
    "        with open(f\"./wheel_data/data/{filename}\", \"r\") as f:\n",
    "            label = json.load(f)\n",
    "            instances = label[\"shapes\"]\n",
    "            \n",
    "            # check if there is defect or not\n",
    "            if len(instances) > 0:\n",
    "                # iterate found defects\n",
    "                for instance in instances:\n",
    "                    \n",
    "                    defect_type = instance[\"label\"]\n",
    "                    points = instance[\"points\"]\n",
    "                    for point in points:\n",
    "                        x, y = point\n",
    "                        top_left_x = min(top_left_x, x)\n",
    "                        top_left_y = min(top_left_y, y)\n",
    "    \n",
    "                        bottom_right_x = max(bottom_right_x, x)\n",
    "                        bottom_right_y = max(bottom_right_y, y)"
   ]
  },
  {
   "cell_type": "code",
   "execution_count": 98,
   "id": "b9d9e513-3509-4c0a-a0fd-25a5b9e46ada",
   "metadata": {},
   "outputs": [
    {
     "data": {
      "text/plain": [
       "(1076.0, 626.0)"
      ]
     },
     "execution_count": 98,
     "metadata": {},
     "output_type": "execute_result"
    }
   ],
   "source": [
    "top_left_x, top_left_y"
   ]
  },
  {
   "cell_type": "code",
   "execution_count": 99,
   "id": "bf179601-4d6a-4a37-8d2e-e5afb6cf1674",
   "metadata": {},
   "outputs": [
    {
     "data": {
      "text/plain": [
       "(1557.0, 1263)"
      ]
     },
     "execution_count": 99,
     "metadata": {},
     "output_type": "execute_result"
    }
   ],
   "source": [
    "bottom_right_x, bottom_right_y"
   ]
  },
  {
   "cell_type": "code",
   "execution_count": null,
   "id": "51ae6142-9232-47c4-91bd-1d06757ff20a",
   "metadata": {},
   "outputs": [],
   "source": []
  }
 ],
 "metadata": {
  "kernelspec": {
   "display_name": "Python 3 (ipykernel)",
   "language": "python",
   "name": "python3"
  },
  "language_info": {
   "codemirror_mode": {
    "name": "ipython",
    "version": 3
   },
   "file_extension": ".py",
   "mimetype": "text/x-python",
   "name": "python",
   "nbconvert_exporter": "python",
   "pygments_lexer": "ipython3",
   "version": "3.10.10"
  }
 },
 "nbformat": 4,
 "nbformat_minor": 5
}
